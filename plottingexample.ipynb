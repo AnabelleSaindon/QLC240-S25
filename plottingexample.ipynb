{
  "nbformat": 4,
  "nbformat_minor": 0,
  "metadata": {
    "colab": {
      "provenance": [],
      "authorship_tag": "ABX9TyME4arMW231NGHb7p9SEPzy",
      "include_colab_link": true
    },
    "kernelspec": {
      "name": "python3",
      "display_name": "Python 3"
    },
    "language_info": {
      "name": "python"
    }
  },
  "cells": [
    {
      "cell_type": "markdown",
      "metadata": {
        "id": "view-in-github",
        "colab_type": "text"
      },
      "source": [
        "<a href=\"https://colab.research.google.com/github/AnabelleSaindon/Random-number-generator/blob/main/plottingexample.ipynb\" target=\"_parent\"><img src=\"https://colab.research.google.com/assets/colab-badge.svg\" alt=\"Open In Colab\"/></a>"
      ]
    },
    {
      "cell_type": "code",
      "execution_count": null,
      "metadata": {
        "id": "_Y9MYtpHLYXI"
      },
      "outputs": [],
      "source": [
        "import random"
      ]
    },
    {
      "cell_type": "markdown",
      "source": [
        "import packages needed above"
      ],
      "metadata": {
        "id": "ci4hCVlbLvOS"
      }
    },
    {
      "cell_type": "code",
      "source": [
        "#make a random list of numbers (20 total) which are randomly chosen between o and 100000\n",
        "random_list = random.sample(range(0,100000),20)"
      ],
      "metadata": {
        "id": "75DgQoJNMLGr"
      },
      "execution_count": null,
      "outputs": []
    },
    {
      "cell_type": "code",
      "source": [
        "#change \"yournumber\" to a number between 0 and 19\n",
        "x = 2"
      ],
      "metadata": {
        "id": "OV4lRnHMMlwr"
      },
      "execution_count": null,
      "outputs": []
    },
    {
      "cell_type": "code",
      "source": [
        "print(random_list[x])"
      ],
      "metadata": {
        "colab": {
          "base_uri": "https://localhost:8080/"
        },
        "id": "TQyujkZZORjC",
        "outputId": "1ccb5297-1497-412d-afc3-6a41d3ccd4ae"
      },
      "execution_count": null,
      "outputs": [
        {
          "output_type": "stream",
          "name": "stdout",
          "text": [
            "85702\n"
          ]
        }
      ]
    },
    {
      "cell_type": "code",
      "source": [
        "#convert inches to cm\n",
        "def inches_to_cm(inches):\n",
        " return inches * 2.54"
      ],
      "metadata": {
        "id": "mv0LvdR6OgBV"
      },
      "execution_count": null,
      "outputs": []
    },
    {
      "cell_type": "code",
      "source": [
        "inches_to_cm(7.75)"
      ],
      "metadata": {
        "colab": {
          "base_uri": "https://localhost:8080/"
        },
        "id": "uZ6fiv42vVGk",
        "outputId": "70d3a73d-f112-4b95-c9f5-d6777b69498c"
      },
      "execution_count": null,
      "outputs": [
        {
          "output_type": "execute_result",
          "data": {
            "text/plain": [
              "19.685"
            ]
          },
          "metadata": {},
          "execution_count": 24
        }
      ]
    },
    {
      "cell_type": "code",
      "source": [
        "inches_to_cm(15.75)"
      ],
      "metadata": {
        "colab": {
          "base_uri": "https://localhost:8080/"
        },
        "id": "aVR0Ycsnvg3Z",
        "outputId": "8d037c6e-a83b-499c-8269-6047cfc56ffa"
      },
      "execution_count": null,
      "outputs": [
        {
          "output_type": "execute_result",
          "data": {
            "text/plain": [
              "40.005"
            ]
          },
          "metadata": {},
          "execution_count": 25
        }
      ]
    },
    {
      "cell_type": "code",
      "source": [
        "inches_to_cm(9.625)"
      ],
      "metadata": {
        "colab": {
          "base_uri": "https://localhost:8080/"
        },
        "id": "gGz-hSjzvrKP",
        "outputId": "7c374c33-65a5-4aa3-edc2-4b3131983a50"
      },
      "execution_count": null,
      "outputs": [
        {
          "output_type": "execute_result",
          "data": {
            "text/plain": [
              "24.4475"
            ]
          },
          "metadata": {},
          "execution_count": 26
        }
      ]
    },
    {
      "cell_type": "code",
      "source": [
        "#All numbers are in cm\n",
        "Width = [19.685,20.955,20.8,20.8,21,20.5]\n",
        "Length = [40.005,40.64,40.5,40,40,40]\n",
        "Height = [24.4475,25.4,25.6,26.5,27,26.5]"
      ],
      "metadata": {
        "id": "UxZLA24bv4Bs"
      },
      "execution_count": null,
      "outputs": []
    },
    {
      "cell_type": "code",
      "source": [
        "import numpy as np #import the numpy library for array operations\n",
        "Width_np = np.array(Width)\n",
        "Length_np = np.array(Length)\n",
        "Height_np = np.array(Height)"
      ],
      "metadata": {
        "id": "cxyqI_JSymNH"
      },
      "execution_count": null,
      "outputs": []
    },
    {
      "cell_type": "code",
      "source": [
        "#Calculate volume using element-wise multiplication\n",
        "Volume = Width_np * Length_np * Height_np\n",
        "print(Volume)"
      ],
      "metadata": {
        "colab": {
          "base_uri": "https://localhost:8080/"
        },
        "id": "-pyS-jXIwqwk",
        "outputId": "930a9cb5-94ca-4e5c-84db-3c3e745b06e9"
      },
      "execution_count": null,
      "outputs": [
        {
          "output_type": "stream",
          "name": "stdout",
          "text": [
            "[19252.36774519 21630.92448    21565.44       22048.\n",
            " 22680.         21730.        ]\n"
          ]
        }
      ]
    },
    {
      "cell_type": "code",
      "source": [
        "#Plot Width, Length and Height as columns on the x axis in a figure with y axis in centimeters\n",
        "import matplotlib.pyplot as plt\n",
        "\n",
        "#calculate means and stamdard deviations\n",
        "width_mean = np.mean(Width_np)\n",
        "width_std = np.std(Width_np)\n",
        "length_mean = np.mean(Length_np)\n",
        "length_std = np.std(Length_np)\n",
        "height_mean = np.mean(Height_np)\n",
        "height_std = np.std(Height_np)"
      ],
      "metadata": {
        "id": "7Ec_q-EAxaCX"
      },
      "execution_count": null,
      "outputs": []
    },
    {
      "cell_type": "code",
      "source": [
        "#create categories and data for plotting\n",
        "categories = ['Width', 'Length', 'Height']\n",
        "mean = [width_mean, length_mean, height_mean]\n",
        "stds = [width_std, length_std, height_std]\n",
        "\n",
        "#create the bar plot with error bars\n",
        "plt.bar(categories, mean, yerr=stds,capsize=5) #capsize controls error bar cap size\n",
        "\n",
        "#customize the plot\n",
        "plt.ylabel(\"Centimeter (cm)\")\n",
        "plt.title(\"Width, Length, and Height with Standard Deviation\")"
      ],
      "metadata": {
        "colab": {
          "base_uri": "https://localhost:8080/",
          "height": 470
        },
        "id": "YB-TKLJC3Ct7",
        "outputId": "34abf29c-72ba-4e7c-8cfe-7fcc8400365a"
      },
      "execution_count": null,
      "outputs": [
        {
          "output_type": "execute_result",
          "data": {
            "text/plain": [
              "Text(0.5, 1.0, 'Width, Length, and Height with Standard Deviation')"
            ]
          },
          "metadata": {},
          "execution_count": 33
        },
        {
          "output_type": "display_data",
          "data": {
            "text/plain": [
              "<Figure size 640x480 with 1 Axes>"
            ],
            "image/png": "[encoded data removed]"
          },
          "metadata": {}
        }
      ]
    },
    {
      "cell_type": "code",
      "source": [],
      "metadata": {
        "id": "hFWIjN3T5Gt8"
      },
      "execution_count": null,
      "outputs": []
    }
  ]
}