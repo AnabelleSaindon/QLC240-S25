{
  "nbformat": 4,
  "nbformat_minor": 0,
  "metadata": {
    "colab": {
      "provenance": [],
      "authorship_tag": "ABX9TyPzT0WFqeLVIamcljUATOON",
      "include_colab_link": true
    },
    "kernelspec": {
      "name": "python3",
      "display_name": "Python 3"
    },
    "language_info": {
      "name": "python"
    }
  },
  "cells": [
    {
      "cell_type": "markdown",
      "metadata": {
        "id": "view-in-github",
        "colab_type": "text"
      },
      "source": [
        "<a href=\"https://colab.research.google.com/github/AnabelleSaindon/Random-number-generator/blob/main/Random_number.ipynb\" target=\"_parent\"><img src=\"https://colab.research.google.com/assets/colab-badge.svg\" alt=\"Open In Colab\"/></a>"
      ]
    },
    {
      "cell_type": "code",
      "execution_count": 1,
      "metadata": {
        "id": "uyPoj7EPyNwr"
      },
      "outputs": [],
      "source": [
        "import random"
      ]
    },
    {
      "cell_type": "code",
      "source": [
        "#make a random list of numbers (20 total) which are randomly chosen between o and 100000\n",
        "random_list = random.sample(range(0,100000),20)\n",
        "#change \"yournumber\" to a number between 0 and 19\n",
        "x = 11\n",
        "#x = 14\n",
        "print(random_list[x])"
      ],
      "metadata": {
        "colab": {
          "base_uri": "https://localhost:8080/"
        },
        "id": "kGZmAYvbyRqK",
        "outputId": "1f13fd5e-1c65-4e3d-9f27-995600e35e10"
      },
      "execution_count": 4,
      "outputs": [
        {
          "output_type": "stream",
          "name": "stdout",
          "text": [
            "70094\n"
          ]
        }
      ]
    },
    {
      "cell_type": "code",
      "source": [
        "# prompt: create a list with the following names: Ty, Nolan, Filip, Maddie, Anabelle, Zoe, Karoline. In a random order each time it is run. Add an input option to increase randomness from a human input\n",
        "\n",
        "import random\n",
        "\n",
        "names = [\"Ty\", \"Nolan\", \"Filip\", \"Maddie\", \"Anabelle\", \"Zoe\", \"Karoline\"]\n",
        "\n",
        "try:\n",
        "  randomness_input = int(input(\"Enter a number to increase randomness (e.g., 1, 2, 3...): \"))\n",
        "  random.seed(randomness_input) # Seed the random number generator with the input\n",
        "except ValueError:\n",
        "  print(\"Invalid input. Using default randomness.\")\n",
        "\n",
        "random.shuffle(names)\n",
        "names\n"
      ],
      "metadata": {
        "colab": {
          "base_uri": "https://localhost:8080/"
        },
        "id": "uv7MpRF6ziAn",
        "outputId": "cc3f3c35-fb45-4c19-8f60-37f106cd7fab"
      },
      "execution_count": 7,
      "outputs": [
        {
          "name": "stdout",
          "output_type": "stream",
          "text": [
            "Enter a number to increase randomness (e.g., 1, 2, 3...): 23\n"
          ]
        },
        {
          "output_type": "execute_result",
          "data": {
            "text/plain": [
              "['Maddie', 'Nolan', 'Zoe', 'Anabelle', 'Ty', 'Filip', 'Karoline']"
            ]
          },
          "metadata": {},
          "execution_count": 7
        }
      ]
    }
  ]
}