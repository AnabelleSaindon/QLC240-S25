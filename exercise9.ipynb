{
  "nbformat": 4,
  "nbformat_minor": 0,
  "metadata": {
    "colab": {
      "provenance": [],
      "include_colab_link": true
    },
    "kernelspec": {
      "name": "python3",
      "display_name": "Python 3"
    },
    "language_info": {
      "name": "python"
    }
  },
  "cells": [
    {
      "cell_type": "markdown",
      "metadata": {
        "id": "view-in-github",
        "colab_type": "text"
      },
      "source": [
        "<a href=\"https://colab.research.google.com/github/AnabelleSaindon/QLC240-S25/blob/main/exercise9.ipynb\" target=\"_parent\"><img src=\"https://colab.research.google.com/assets/colab-badge.svg\" alt=\"Open In Colab\"/></a>"
      ]
    },
    {
      "cell_type": "code",
      "execution_count": null,
      "metadata": {
        "id": "WcZvnZMqogFS"
      },
      "outputs": [],
      "source": []
    },
    {
      "cell_type": "markdown",
      "source": [
        "Exercise 9: Importing and initial visualization of data that we will be modeling"
      ],
      "metadata": {
        "id": "6Ru1rhr3ouhD"
      }
    },
    {
      "cell_type": "markdown",
      "source": [
        "The following exercises will be organized into 4 sections:\n",
        "    1. Comparing the 2 datasets (JMA, Argo) and looking at overlaps and gaps.\n",
        "    2. Creating models to find the best fit model for the JMA dataset, to use on the ARGO data.\n",
        "    3. Use only data from JMA that corresponds to the geographic area of the ARGO dataset. Then do the same thing as in section 2.\n",
        "    4. Analysis of the best fit models from sections 2 and 3, to see if using data from the same geographic area results in a better model."
      ],
      "metadata": {
        "id": "XLFBhZQTomnL"
      }
    },
    {
      "cell_type": "code",
      "source": [
        "#Import packages needed to run code\n",
        "%matplotlib inline\n",
        "import matplotlib.pyplot as plt\n",
        "import numpy as np\n",
        "import pandas as pd\n",
        "from sklearn import datasets, linear_model\n",
        "from sklearn.metrics import mean_squared_error, r2_score"
      ],
      "metadata": {
        "id": "kxmSU2zVotPc"
      },
      "execution_count": null,
      "outputs": []
    },
    {
      "cell_type": "markdown",
      "source": [
        "Import the JMA dataset and visualize to see what we have.\n",
        "IMport nitrate file as a pandas dataset."
      ],
      "metadata": {
        "id": "gWB-7nulqQ5O"
      }
    },
    {
      "cell_type": "code",
      "source": [
        "infile = 'jma_nitrate.csv'\n",
        "#import infile as a panda dataframe and remove first column\n",
        "data = pd.read_csv(infile, sep = (','))\n",
        "data = data.drop(data.columns[0], axis=1)\n",
        "\n",
        "#End the cell by visualizing the data variable, if that is what you called it, example:\n",
        "data"
      ],
      "metadata": {
        "id": "Ic6GiwyXpHTt",
        "colab": {
          "base_uri": "https://localhost:8080/",
          "height": 779
        },
        "outputId": "b7f8c16d-222a-4ca3-8689-de13d9f7d011"
      },
      "execution_count": null,
      "outputs": [
        {
          "output_type": "execute_result",
          "data": {
            "text/plain": [
              "         theta      sal  depth  nitrate         lon        lat         date  \\\n",
              "0      25.8807  34.0215      0     0.09  140.242833  34.926167   2010/10/03   \n",
              "1      25.8993  34.0217     13     0.00  140.242833  34.926167   2010/10/03   \n",
              "2      25.8843  34.0196     27     0.00  140.242833  34.926167   2010/10/03   \n",
              "3      25.9894  34.2936     51     0.48  140.242833  34.926167   2010/10/03   \n",
              "4      23.6146  34.5002     75     2.71  140.242833  34.926167   2010/10/03   \n",
              "...        ...      ...    ...      ...         ...        ...          ...   \n",
              "16216   2.3991  34.4053   1204    42.96  145.709167  42.662500   2016/05/11   \n",
              "16217   2.2752  34.4674   1403    42.88  145.709167  42.662500   2016/05/11   \n",
              "16218   2.0916  34.5120   1602    42.20  145.709167  42.662500   2016/05/11   \n",
              "16219   1.9582  34.5527   1801    41.73  145.709167  42.662500   2016/05/11   \n",
              "16220   1.7914  34.5919   2002    40.96  145.709167  42.662500   2016/05/11   \n",
              "\n",
              "         year  month   day  profile  cruise           vessel    density  \n",
              "0      2010.0   10.0   3.0      1.0   10-07   R/V Keifu Maru  22.228287  \n",
              "1      2010.0   10.0   3.0      1.0   10-07   R/V Keifu Maru  22.222695  \n",
              "2      2010.0   10.0   3.0      1.0   10-07   R/V Keifu Maru  22.225773  \n",
              "3      2010.0   10.0   3.0      1.0   10-07   R/V Keifu Maru  22.395633  \n",
              "4      2010.0   10.0   3.0      1.0   10-07   R/V Keifu Maru  23.263277  \n",
              "...       ...    ...   ...      ...     ...              ...        ...  \n",
              "16216  2016.0    5.0  11.0    529.0   16-04   R/V Ryofu Maru  27.334433  \n",
              "16217  2016.0    5.0  11.0    529.0   16-04   R/V Ryofu Maru  27.394058  \n",
              "16218  2016.0    5.0  11.0    529.0   16-04   R/V Ryofu Maru  27.444383  \n",
              "16219  2016.0    5.0  11.0    529.0   16-04   R/V Ryofu Maru  27.487322  \n",
              "16220  2016.0    5.0  11.0    529.0   16-04   R/V Ryofu Maru  27.531422  \n",
              "\n",
              "[16221 rows x 14 columns]"
            ],
            "text/html": [
              "\n",
              "  <div id=\"df-dad636c4-8272-443d-901b-3061e9962663\" class=\"colab-df-container\">\n",
              "    <div>\n",
              "<style scoped>\n",
              "    .dataframe tbody tr th:only-of-type {\n",
              "        vertical-align: middle;\n",
              "    }\n",
              "\n",
              "    .dataframe tbody tr th {\n",
              "        vertical-align: top;\n",
              "    }\n",
              "\n",
              "    .dataframe thead th {\n",
              "        text-align: right;\n",
              "    }\n",
              "</style>\n",
              "<table border=\"1\" class=\"dataframe\">\n",
              "  <thead>\n",
              "    <tr style=\"text-align: right;\">\n",
              "      <th></th>\n",
              "      <th>theta</th>\n",
              "      <th>sal</th>\n",
              "      <th>depth</th>\n",
              "      <th>nitrate</th>\n",
              "      <th>lon</th>\n",
              "      <th>lat</th>\n",
              "      <th>date</th>\n",
              "      <th>year</th>\n",
              "      <th>month</th>\n",
              "      <th>day</th>\n",
              "      <th>profile</th>\n",
              "      <th>cruise</th>\n",
              "      <th>vessel</th>\n",
              "      <th>density</th>\n",
              "    </tr>\n",
              "  </thead>\n",
              "  <tbody>\n",
              "    <tr>\n",
              "      <th>0</th>\n",
              "      <td>25.8807</td>\n",
              "      <td>34.0215</td>\n",
              "      <td>0</td>\n",
              "      <td>0.09</td>\n",
              "      <td>140.242833</td>\n",
              "      <td>34.926167</td>\n",
              "      <td>2010/10/03</td>\n",
              "      <td>2010.0</td>\n",
              "      <td>10.0</td>\n",
              "      <td>3.0</td>\n",
              "      <td>1.0</td>\n",
              "      <td>10-07</td>\n",
              "      <td>R/V Keifu Maru</td>\n",
              "      <td>22.228287</td>\n",
              "    </tr>\n",
              "    <tr>\n",
              "      <th>1</th>\n",
              "      <td>25.8993</td>\n",
              "      <td>34.0217</td>\n",
              "      <td>13</td>\n",
              "      <td>0.00</td>\n",
              "      <td>140.242833</td>\n",
              "      <td>34.926167</td>\n",
              "      <td>2010/10/03</td>\n",
              "      <td>2010.0</td>\n",
              "      <td>10.0</td>\n",
              "      <td>3.0</td>\n",
              "      <td>1.0</td>\n",
              "      <td>10-07</td>\n",
              "      <td>R/V Keifu Maru</td>\n",
              "      <td>22.222695</td>\n",
              "    </tr>\n",
              "    <tr>\n",
              "      <th>2</th>\n",
              "      <td>25.8843</td>\n",
              "      <td>34.0196</td>\n",
              "      <td>27</td>\n",
              "      <td>0.00</td>\n",
              "      <td>140.242833</td>\n",
              "      <td>34.926167</td>\n",
              "      <td>2010/10/03</td>\n",
              "      <td>2010.0</td>\n",
              "      <td>10.0</td>\n",
              "      <td>3.0</td>\n",
              "      <td>1.0</td>\n",
              "      <td>10-07</td>\n",
              "      <td>R/V Keifu Maru</td>\n",
              "      <td>22.225773</td>\n",
              "    </tr>\n",
              "    <tr>\n",
              "      <th>3</th>\n",
              "      <td>25.9894</td>\n",
              "      <td>34.2936</td>\n",
              "      <td>51</td>\n",
              "      <td>0.48</td>\n",
              "      <td>140.242833</td>\n",
              "      <td>34.926167</td>\n",
              "      <td>2010/10/03</td>\n",
              "      <td>2010.0</td>\n",
              "      <td>10.0</td>\n",
              "      <td>3.0</td>\n",
              "      <td>1.0</td>\n",
              "      <td>10-07</td>\n",
              "      <td>R/V Keifu Maru</td>\n",
              "      <td>22.395633</td>\n",
              "    </tr>\n",
              "    <tr>\n",
              "      <th>4</th>\n",
              "      <td>23.6146</td>\n",
              "      <td>34.5002</td>\n",
              "      <td>75</td>\n",
              "      <td>2.71</td>\n",
              "      <td>140.242833</td>\n",
              "      <td>34.926167</td>\n",
              "      <td>2010/10/03</td>\n",
              "      <td>2010.0</td>\n",
              "      <td>10.0</td>\n",
              "      <td>3.0</td>\n",
              "      <td>1.0</td>\n",
              "      <td>10-07</td>\n",
              "      <td>R/V Keifu Maru</td>\n",
              "      <td>23.263277</td>\n",
              "    </tr>\n",
              "    <tr>\n",
              "      <th>...</th>\n",
              "      <td>...</td>\n",
              "      <td>...</td>\n",
              "      <td>...</td>\n",
              "      <td>...</td>\n",
              "      <td>...</td>\n",
              "      <td>...</td>\n",
              "      <td>...</td>\n",
              "      <td>...</td>\n",
              "      <td>...</td>\n",
              "      <td>...</td>\n",
              "      <td>...</td>\n",
              "      <td>...</td>\n",
              "      <td>...</td>\n",
              "      <td>...</td>\n",
              "    </tr>\n",
              "    <tr>\n",
              "      <th>16216</th>\n",
              "      <td>2.3991</td>\n",
              "      <td>34.4053</td>\n",
              "      <td>1204</td>\n",
              "      <td>42.96</td>\n",
              "      <td>145.709167</td>\n",
              "      <td>42.662500</td>\n",
              "      <td>2016/05/11</td>\n",
              "      <td>2016.0</td>\n",
              "      <td>5.0</td>\n",
              "      <td>11.0</td>\n",
              "      <td>529.0</td>\n",
              "      <td>16-04</td>\n",
              "      <td>R/V Ryofu Maru</td>\n",
              "      <td>27.334433</td>\n",
              "    </tr>\n",
              "    <tr>\n",
              "      <th>16217</th>\n",
              "      <td>2.2752</td>\n",
              "      <td>34.4674</td>\n",
              "      <td>1403</td>\n",
              "      <td>42.88</td>\n",
              "      <td>145.709167</td>\n",
              "      <td>42.662500</td>\n",
              "      <td>2016/05/11</td>\n",
              "      <td>2016.0</td>\n",
              "      <td>5.0</td>\n",
              "      <td>11.0</td>\n",
              "      <td>529.0</td>\n",
              "      <td>16-04</td>\n",
              "      <td>R/V Ryofu Maru</td>\n",
              "      <td>27.394058</td>\n",
              "    </tr>\n",
              "    <tr>\n",
              "      <th>16218</th>\n",
              "      <td>2.0916</td>\n",
              "      <td>34.5120</td>\n",
              "      <td>1602</td>\n",
              "      <td>42.20</td>\n",
              "      <td>145.709167</td>\n",
              "      <td>42.662500</td>\n",
              "      <td>2016/05/11</td>\n",
              "      <td>2016.0</td>\n",
              "      <td>5.0</td>\n",
              "      <td>11.0</td>\n",
              "      <td>529.0</td>\n",
              "      <td>16-04</td>\n",
              "      <td>R/V Ryofu Maru</td>\n",
              "      <td>27.444383</td>\n",
              "    </tr>\n",
              "    <tr>\n",
              "      <th>16219</th>\n",
              "      <td>1.9582</td>\n",
              "      <td>34.5527</td>\n",
              "      <td>1801</td>\n",
              "      <td>41.73</td>\n",
              "      <td>145.709167</td>\n",
              "      <td>42.662500</td>\n",
              "      <td>2016/05/11</td>\n",
              "      <td>2016.0</td>\n",
              "      <td>5.0</td>\n",
              "      <td>11.0</td>\n",
              "      <td>529.0</td>\n",
              "      <td>16-04</td>\n",
              "      <td>R/V Ryofu Maru</td>\n",
              "      <td>27.487322</td>\n",
              "    </tr>\n",
              "    <tr>\n",
              "      <th>16220</th>\n",
              "      <td>1.7914</td>\n",
              "      <td>34.5919</td>\n",
              "      <td>2002</td>\n",
              "      <td>40.96</td>\n",
              "      <td>145.709167</td>\n",
              "      <td>42.662500</td>\n",
              "      <td>2016/05/11</td>\n",
              "      <td>2016.0</td>\n",
              "      <td>5.0</td>\n",
              "      <td>11.0</td>\n",
              "      <td>529.0</td>\n",
              "      <td>16-04</td>\n",
              "      <td>R/V Ryofu Maru</td>\n",
              "      <td>27.531422</td>\n",
              "    </tr>\n",
              "  </tbody>\n",
              "</table>\n",
              "<p>16221 rows × 14 columns</p>\n",
              "</div>\n",
              "    <div class=\"colab-df-buttons\">\n",
              "\n",
              "  <div class=\"colab-df-container\">\n",
              "    <button class=\"colab-df-convert\" onclick=\"convertToInteractive('df-dad636c4-8272-443d-901b-3061e9962663')\"\n",
              "            title=\"Convert this dataframe to an interactive table.\"\n",
              "            style=\"display:none;\">\n",
              "\n",
              "  <svg xmlns=\"http://www.w3.org/2000/svg\" height=\"24px\" viewBox=\"0 -960 960 960\">\n",
              "    <path d=\"M120-120v-720h720v720H120Zm60-500h600v-160H180v160Zm220 220h160v-160H400v160Zm0 220h160v-160H400v160ZM180-400h160v-160H180v160Zm440 0h160v-160H620v160ZM180-180h160v-160H180v160Zm440 0h160v-160H620v160Z\"/>\n",
              "  </svg>\n",
              "    </button>\n",
              "\n",
              "  <style>\n",
              "    .colab-df-container {\n",
              "      display:flex;\n",
              "      gap: 12px;\n",
              "    }\n",
              "\n",
              "    .colab-df-convert {\n",
              "      background-color: #E8F0FE;\n",
              "      border: none;\n",
              "      border-radius: 50%;\n",
              "      cursor: pointer;\n",
              "      display: none;\n",
              "      fill: #1967D2;\n",
              "      height: 32px;\n",
              "      padding: 0 0 0 0;\n",
              "      width: 32px;\n",
              "    }\n",
              "\n",
              "    .colab-df-convert:hover {\n",
              "      background-color: #E2EBFA;\n",
              "      box-shadow: 0px 1px 2px rgba(60, 64, 67, 0.3), 0px 1px 3px 1px rgba(60, 64, 67, 0.15);\n",
              "      fill: #174EA6;\n",
              "    }\n",
              "\n",
              "    .colab-df-buttons div {\n",
              "      margin-bottom: 4px;\n",
              "    }\n",
              "\n",
              "    [theme=dark] .colab-df-convert {\n",
              "      background-color: #3B4455;\n",
              "      fill: #D2E3FC;\n",
              "    }\n",
              "\n",
              "    [theme=dark] .colab-df-convert:hover {\n",
              "      background-color: #434B5C;\n",
              "      box-shadow: 0px 1px 3px 1px rgba(0, 0, 0, 0.15);\n",
              "      filter: drop-shadow(0px 1px 2px rgba(0, 0, 0, 0.3));\n",
              "      fill: #FFFFFF;\n",
              "    }\n",
              "  </style>\n",
              "\n",
              "    <script>\n",
              "      const buttonEl =\n",
              "        document.querySelector('#df-dad636c4-8272-443d-901b-3061e9962663 button.colab-df-convert');\n",
              "      buttonEl.style.display =\n",
              "        google.colab.kernel.accessAllowed ? 'block' : 'none';\n",
              "\n",
              "      async function convertToInteractive(key) {\n",
              "        const element = document.querySelector('#df-dad636c4-8272-443d-901b-3061e9962663');\n",
              "        const dataTable =\n",
              "          await google.colab.kernel.invokeFunction('convertToInteractive',\n",
              "                                                    [key], {});\n",
              "        if (!dataTable) return;\n",
              "\n",
              "        const docLinkHtml = 'Like what you see? Visit the ' +\n",
              "          '<a target=\"_blank\" href=https://colab.research.google.com/notebooks/data_table.ipynb>data table notebook</a>'\n",
              "          + ' to learn more about interactive tables.';\n",
              "        element.innerHTML = '';\n",
              "        dataTable['output_type'] = 'display_data';\n",
              "        await google.colab.output.renderOutput(dataTable, element);\n",
              "        const docLink = document.createElement('div');\n",
              "        docLink.innerHTML = docLinkHtml;\n",
              "        element.appendChild(docLink);\n",
              "      }\n",
              "    </script>\n",
              "  </div>\n",
              "\n",
              "\n",
              "<div id=\"df-de93e21d-5fc7-4b2f-9085-ec3d3b4f9792\">\n",
              "  <button class=\"colab-df-quickchart\" onclick=\"quickchart('df-de93e21d-5fc7-4b2f-9085-ec3d3b4f9792')\"\n",
              "            title=\"Suggest charts\"\n",
              "            style=\"display:none;\">\n",
              "\n",
              "<svg xmlns=\"http://www.w3.org/2000/svg\" height=\"24px\"viewBox=\"0 0 24 24\"\n",
              "     width=\"24px\">\n",
              "    <g>\n",
              "        <path d=\"M19 3H5c-1.1 0-2 .9-2 2v14c0 1.1.9 2 2 2h14c1.1 0 2-.9 2-2V5c0-1.1-.9-2-2-2zM9 17H7v-7h2v7zm4 0h-2V7h2v10zm4 0h-2v-4h2v4z\"/>\n",
              "    </g>\n",
              "</svg>\n",
              "  </button>\n",
              "\n",
              "<style>\n",
              "  .colab-df-quickchart {\n",
              "      --bg-color: #E8F0FE;\n",
              "      --fill-color: #1967D2;\n",
              "      --hover-bg-color: #E2EBFA;\n",
              "      --hover-fill-color: #174EA6;\n",
              "      --disabled-fill-color: #AAA;\n",
              "      --disabled-bg-color: #DDD;\n",
              "  }\n",
              "\n",
              "  [theme=dark] .colab-df-quickchart {\n",
              "      --bg-color: #3B4455;\n",
              "      --fill-color: #D2E3FC;\n",
              "      --hover-bg-color: #434B5C;\n",
              "      --hover-fill-color: #FFFFFF;\n",
              "      --disabled-bg-color: #3B4455;\n",
              "      --disabled-fill-color: #666;\n",
              "  }\n",
              "\n",
              "  .colab-df-quickchart {\n",
              "    background-color: var(--bg-color);\n",
              "    border: none;\n",
              "    border-radius: 50%;\n",
              "    cursor: pointer;\n",
              "    display: none;\n",
              "    fill: var(--fill-color);\n",
              "    height: 32px;\n",
              "    padding: 0;\n",
              "    width: 32px;\n",
              "  }\n",
              "\n",
              "  .colab-df-quickchart:hover {\n",
              "    background-color: var(--hover-bg-color);\n",
              "    box-shadow: 0 1px 2px rgba(60, 64, 67, 0.3), 0 1px 3px 1px rgba(60, 64, 67, 0.15);\n",
              "    fill: var(--button-hover-fill-color);\n",
              "  }\n",
              "\n",
              "  .colab-df-quickchart-complete:disabled,\n",
              "  .colab-df-quickchart-complete:disabled:hover {\n",
              "    background-color: var(--disabled-bg-color);\n",
              "    fill: var(--disabled-fill-color);\n",
              "    box-shadow: none;\n",
              "  }\n",
              "\n",
              "  .colab-df-spinner {\n",
              "    border: 2px solid var(--fill-color);\n",
              "    border-color: transparent;\n",
              "    border-bottom-color: var(--fill-color);\n",
              "    animation:\n",
              "      spin 1s steps(1) infinite;\n",
              "  }\n",
              "\n",
              "  @keyframes spin {\n",
              "    0% {\n",
              "      border-color: transparent;\n",
              "      border-bottom-color: var(--fill-color);\n",
              "      border-left-color: var(--fill-color);\n",
              "    }\n",
              "    20% {\n",
              "      border-color: transparent;\n",
              "      border-left-color: var(--fill-color);\n",
              "      border-top-color: var(--fill-color);\n",
              "    }\n",
              "    30% {\n",
              "      border-color: transparent;\n",
              "      border-left-color: var(--fill-color);\n",
              "      border-top-color: var(--fill-color);\n",
              "      border-right-color: var(--fill-color);\n",
              "    }\n",
              "    40% {\n",
              "      border-color: transparent;\n",
              "      border-right-color: var(--fill-color);\n",
              "      border-top-color: var(--fill-color);\n",
              "    }\n",
              "    60% {\n",
              "      border-color: transparent;\n",
              "      border-right-color: var(--fill-color);\n",
              "    }\n",
              "    80% {\n",
              "      border-color: transparent;\n",
              "      border-right-color: var(--fill-color);\n",
              "      border-bottom-color: var(--fill-color);\n",
              "    }\n",
              "    90% {\n",
              "      border-color: transparent;\n",
              "      border-bottom-color: var(--fill-color);\n",
              "    }\n",
              "  }\n",
              "</style>\n",
              "\n",
              "  <script>\n",
              "    async function quickchart(key) {\n",
              "      const quickchartButtonEl =\n",
              "        document.querySelector('#' + key + ' button');\n",
              "      quickchartButtonEl.disabled = true;  // To prevent multiple clicks.\n",
              "      quickchartButtonEl.classList.add('colab-df-spinner');\n",
              "      try {\n",
              "        const charts = await google.colab.kernel.invokeFunction(\n",
              "            'suggestCharts', [key], {});\n",
              "      } catch (error) {\n",
              "        console.error('Error during call to suggestCharts:', error);\n",
              "      }\n",
              "      quickchartButtonEl.classList.remove('colab-df-spinner');\n",
              "      quickchartButtonEl.classList.add('colab-df-quickchart-complete');\n",
              "    }\n",
              "    (() => {\n",
              "      let quickchartButtonEl =\n",
              "        document.querySelector('#df-de93e21d-5fc7-4b2f-9085-ec3d3b4f9792 button');\n",
              "      quickchartButtonEl.style.display =\n",
              "        google.colab.kernel.accessAllowed ? 'block' : 'none';\n",
              "    })();\n",
              "  </script>\n",
              "</div>\n",
              "\n",
              "  <div id=\"id_3f485c9b-0749-4639-8577-952d5a72efea\">\n",
              "    <style>\n",
              "      .colab-df-generate {\n",
              "        background-color: #E8F0FE;\n",
              "        border: none;\n",
              "        border-radius: 50%;\n",
              "        cursor: pointer;\n",
              "        display: none;\n",
              "        fill: #1967D2;\n",
              "        height: 32px;\n",
              "        padding: 0 0 0 0;\n",
              "        width: 32px;\n",
              "      }\n",
              "\n",
              "      .colab-df-generate:hover {\n",
              "        background-color: #E2EBFA;\n",
              "        box-shadow: 0px 1px 2px rgba(60, 64, 67, 0.3), 0px 1px 3px 1px rgba(60, 64, 67, 0.15);\n",
              "        fill: #174EA6;\n",
              "      }\n",
              "\n",
              "      [theme=dark] .colab-df-generate {\n",
              "        background-color: #3B4455;\n",
              "        fill: #D2E3FC;\n",
              "      }\n",
              "\n",
              "      [theme=dark] .colab-df-generate:hover {\n",
              "        background-color: #434B5C;\n",
              "        box-shadow: 0px 1px 3px 1px rgba(0, 0, 0, 0.15);\n",
              "        filter: drop-shadow(0px 1px 2px rgba(0, 0, 0, 0.3));\n",
              "        fill: #FFFFFF;\n",
              "      }\n",
              "    </style>\n",
              "    <button class=\"colab-df-generate\" onclick=\"generateWithVariable('data')\"\n",
              "            title=\"Generate code using this dataframe.\"\n",
              "            style=\"display:none;\">\n",
              "\n",
              "  <svg xmlns=\"http://www.w3.org/2000/svg\" height=\"24px\"viewBox=\"0 0 24 24\"\n",
              "       width=\"24px\">\n",
              "    <path d=\"M7,19H8.4L18.45,9,17,7.55,7,17.6ZM5,21V16.75L18.45,3.32a2,2,0,0,1,2.83,0l1.4,1.43a1.91,1.91,0,0,1,.58,1.4,1.91,1.91,0,0,1-.58,1.4L9.25,21ZM18.45,9,17,7.55Zm-12,3A5.31,5.31,0,0,0,4.9,8.1,5.31,5.31,0,0,0,1,6.5,5.31,5.31,0,0,0,4.9,4.9,5.31,5.31,0,0,0,6.5,1,5.31,5.31,0,0,0,8.1,4.9,5.31,5.31,0,0,0,12,6.5,5.46,5.46,0,0,0,6.5,12Z\"/>\n",
              "  </svg>\n",
              "    </button>\n",
              "    <script>\n",
              "      (() => {\n",
              "      const buttonEl =\n",
              "        document.querySelector('#id_3f485c9b-0749-4639-8577-952d5a72efea button.colab-df-generate');\n",
              "      buttonEl.style.display =\n",
              "        google.colab.kernel.accessAllowed ? 'block' : 'none';\n",
              "\n",
              "      buttonEl.onclick = () => {\n",
              "        google.colab.notebook.generateWithVariable('data');\n",
              "      }\n",
              "      })();\n",
              "    </script>\n",
              "  </div>\n",
              "\n",
              "    </div>\n",
              "  </div>\n"
            ],
            "application/vnd.google.colaboratory.intrinsic+json": {
              "type": "dataframe",
              "variable_name": "data",
              "summary": "{\n  \"name\": \"data\",\n  \"rows\": 16221,\n  \"fields\": [\n    {\n      \"column\": \"theta\",\n      \"properties\": {\n        \"dtype\": \"number\",\n        \"std\": 7.618493101909661,\n        \"min\": 0.0344,\n        \"max\": 29.9233,\n        \"num_unique_values\": 14018,\n        \"samples\": [\n          17.1212,\n          2.1588,\n          16.9053\n        ],\n        \"semantic_type\": \"\",\n        \"description\": \"\"\n      }\n    },\n    {\n      \"column\": \"sal\",\n      \"properties\": {\n        \"dtype\": \"number\",\n        \"std\": 0.36189091031271886,\n        \"min\": 32.3492,\n        \"max\": 35.5481,\n        \"num_unique_values\": 7513,\n        \"samples\": [\n          34.7713,\n          34.2031,\n          34.7978\n        ],\n        \"semantic_type\": \"\",\n        \"description\": \"\"\n      }\n    },\n    {\n      \"column\": \"depth\",\n      \"properties\": {\n        \"dtype\": \"number\",\n        \"std\": 1522,\n        \"min\": 0,\n        \"max\": 6161,\n        \"num_unique_values\": 1051,\n        \"samples\": [\n          1333,\n          1469,\n          98\n        ],\n        \"semantic_type\": \"\",\n        \"description\": \"\"\n      }\n    },\n    {\n      \"column\": \"nitrate\",\n      \"properties\": {\n        \"dtype\": \"number\",\n        \"std\": 75.27406775331666,\n        \"min\": -999.0,\n        \"max\": 45.33,\n        \"num_unique_values\": 3576,\n        \"samples\": [\n          23.64,\n          15.33,\n          13.2\n        ],\n        \"semantic_type\": \"\",\n        \"description\": \"\"\n      }\n    },\n    {\n      \"column\": \"lon\",\n      \"properties\": {\n        \"dtype\": \"number\",\n        \"std\": 9.713532492176062,\n        \"min\": 133.990833333,\n        \"max\": 170.035166667,\n        \"num_unique_values\": 519,\n        \"samples\": [\n          150.3435,\n          165.037333333,\n          145.9885\n        ],\n        \"semantic_type\": \"\",\n        \"description\": \"\"\n      }\n    },\n    {\n      \"column\": \"lat\",\n      \"properties\": {\n        \"dtype\": \"number\",\n        \"std\": 9.078473520965126,\n        \"min\": 0.332166666667,\n        \"max\": 49.9915,\n        \"num_unique_values\": 508,\n        \"samples\": [\n          32.977,\n          35.4935,\n          41.6705\n        ],\n        \"semantic_type\": \"\",\n        \"description\": \"\"\n      }\n    },\n    {\n      \"column\": \"date\",\n      \"properties\": {\n        \"dtype\": \"object\",\n        \"num_unique_values\": 250,\n        \"samples\": [\n          \" 2012/11/20\",\n          \" 2010/10/09\",\n          \" 2012/05/06\"\n        ],\n        \"semantic_type\": \"\",\n        \"description\": \"\"\n      }\n    },\n    {\n      \"column\": \"year\",\n      \"properties\": {\n        \"dtype\": \"number\",\n        \"std\": 1.6852497938574007,\n        \"min\": 2010.0,\n        \"max\": 2016.0,\n        \"num_unique_values\": 7,\n        \"samples\": [\n          2010.0,\n          2011.0,\n          2015.0\n        ],\n        \"semantic_type\": \"\",\n        \"description\": \"\"\n      }\n    },\n    {\n      \"column\": \"month\",\n      \"properties\": {\n        \"dtype\": \"number\",\n        \"std\": 2.6603605105063663,\n        \"min\": 2.0,\n        \"max\": 12.0,\n        \"num_unique_values\": 11,\n        \"samples\": [\n          3.0,\n          10.0,\n          11.0\n        ],\n        \"semantic_type\": \"\",\n        \"description\": \"\"\n      }\n    },\n    {\n      \"column\": \"day\",\n      \"properties\": {\n        \"dtype\": \"number\",\n        \"std\": 8.713439636790639,\n        \"min\": 1.0,\n        \"max\": 31.0,\n        \"num_unique_values\": 31,\n        \"samples\": [\n          30.0,\n          27.0,\n          18.0\n        ],\n        \"semantic_type\": \"\",\n        \"description\": \"\"\n      }\n    },\n    {\n      \"column\": \"profile\",\n      \"properties\": {\n        \"dtype\": \"number\",\n        \"std\": 148.90960021644477,\n        \"min\": 1.0,\n        \"max\": 529.0,\n        \"num_unique_values\": 529,\n        \"samples\": [\n          141.0,\n          398.0,\n          7.0\n        ],\n        \"semantic_type\": \"\",\n        \"description\": \"\"\n      }\n    },\n    {\n      \"column\": \"cruise\",\n      \"properties\": {\n        \"dtype\": \"category\",\n        \"num_unique_values\": 19,\n        \"samples\": [\n          \" 10-07\",\n          \" 12-02\",\n          \" 13-04\"\n        ],\n        \"semantic_type\": \"\",\n        \"description\": \"\"\n      }\n    },\n    {\n      \"column\": \"vessel\",\n      \"properties\": {\n        \"dtype\": \"category\",\n        \"num_unique_values\": 2,\n        \"samples\": [\n          \" R/V Ryofu Maru\",\n          \" R/V Keifu Maru\"\n        ],\n        \"semantic_type\": \"\",\n        \"description\": \"\"\n      }\n    },\n    {\n      \"column\": \"density\",\n      \"properties\": {\n        \"dtype\": \"number\",\n        \"std\": 1.353231493401076,\n        \"min\": 20.9513018572,\n        \"max\": 27.6816062803,\n        \"num_unique_values\": 15524,\n        \"samples\": [\n          24.8543229654,\n          27.643680189\n        ],\n        \"semantic_type\": \"\",\n        \"description\": \"\"\n      }\n    }\n  ]\n}"
            }
          },
          "metadata": {},
          "execution_count": 6
        }
      ]
    },
    {
      "cell_type": "markdown",
      "source": [
        "Plotting a scater plot of nitrate and depth data from JMA cruise.\n",
        "You might want to invert the axis, to make it look like an ocean water column."
      ],
      "metadata": {
        "id": "_Zgj4eVPqrYW"
      }
    },
    {
      "cell_type": "code",
      "source": [
        "#plot a scatter plot of nitrate and depth data from the data variable. Also, invert the y axis.\n",
        "import matplotlib.pyplot as plt\n",
        "\n",
        "# Create the scatter plot\n",
        "plt.scatter(data['nitrate'], data['depth'])\n",
        "\n",
        "# Invert the y-axis\n",
        "plt.gca().invert_yaxis()\n",
        "#put the x axis ticks and labels on top\n",
        "plt.gca().xaxis.tick_top()\n",
        "\n",
        "# Set the axis labels\n",
        "#put nitrate label on top axis\n",
        "plt.xlabel('Nitrate')\n",
        "plt.gca().xaxis.set_label_position('top')\n",
        "plt.ylabel('Depth')\n",
        "\n",
        "# Set the plot title\n",
        "plt.title('Nitrate vs Depth')\n",
        "\n",
        "# Display the plot\n",
        "plt.show()"
      ],
      "metadata": {
        "id": "Q5EHRGZlqpHQ",
        "colab": {
          "base_uri": "https://localhost:8080/",
          "height": 469
        },
        "outputId": "461c0f82-4e1d-46dc-cfc9-b26bc363b894"
      },
      "execution_count": null,
      "outputs": [
        {
          "output_type": "display_data",
          "data": {
            "text/plain": [
              "<Figure size 640x480 with 1 Axes>"
            ],
            "image/png": "[encoded data removed]"
          },
          "metadata": {}
        }
      ]
    },
    {
      "cell_type": "markdown",
      "source": [
        "The raw jma data appear to have some nitrate values at -999, representing either no data or bad data. These have to be removed before we can continue."
      ],
      "metadata": {
        "id": "BFOzR8N6qtiu"
      }
    },
    {
      "cell_type": "code",
      "source": [
        "#Example:\n",
        "# Looks like there are -999 values to indicate no samples or bad samples. Let's take those out.\n",
        "corr_data = data[data.nitrate>0]\n",
        "#Plot the corrected data in a scatter plot again."
      ],
      "metadata": {
        "id": "92eULDzhqvdv"
      },
      "execution_count": null,
      "outputs": []
    },
    {
      "cell_type": "code",
      "source": [
        "#plot a scatter plot of nitrate and depth data from the data variable. Also, invert the y axis.\n",
        "import matplotlib.pyplot as plt\n",
        "\n",
        "# Create the scatter plot\n",
        "plt.scatter(corr_data['nitrate'], corr_data['depth'])\n",
        "\n",
        "# Invert the y-axis\n",
        "plt.gca().invert_yaxis()\n",
        "#put the x axis ticks and labels on top\n",
        "plt.gca().xaxis.tick_top()\n",
        "\n",
        "# Set the axis labels\n",
        "#put nitrate label on top axis\n",
        "plt.xlabel('Nitrate')\n",
        "plt.gca().xaxis.set_label_position('top')\n",
        "plt.ylabel('Depth')\n",
        "\n",
        "# Set the plot title\n",
        "plt.title('Nitrate vs Depth')\n",
        "\n",
        "# Display the plot\n",
        "plt.show()"
      ],
      "metadata": {
        "colab": {
          "base_uri": "https://localhost:8080/",
          "height": 469
        },
        "id": "KP0NL-j89DMa",
        "outputId": "02ea5ed9-f133-43e1-df88-d9015ca78e41"
      },
      "execution_count": null,
      "outputs": [
        {
          "output_type": "display_data",
          "data": {
            "text/plain": [
              "<Figure size 640x480 with 1 Axes>"
            ],
            "image/png": "[encoded data removed]"
          },
          "metadata": {}
        }
      ]
    },
    {
      "cell_type": "markdown",
      "source": [
        "The following cell will read in another file, and fix some date/time variables so they are managable. You don't need to change it at all, except you need to upload the .csv file itself."
      ],
      "metadata": {
        "id": "6XHyc5z9rIbf"
      }
    },
    {
      "cell_type": "code",
      "source": [
        "# Reading in the Argo float data with no NO3 values\n",
        "infile = 'kuro_BGCargo_noNO3.csv'\n",
        "data_BGC = pd.read_csv(infile, sep = (','))\n",
        "\n",
        "# Separating the date column of BGC argo data into year month and day columns to look at seasonality compared to the jma data.\n",
        "import datetime\n",
        "\n",
        "data_BGC['year'] = pd.DatetimeIndex(data_BGC['Date/GMT']).year\n",
        "data_BGC['month'] = pd.DatetimeIndex(data_BGC['Date/GMT']).month\n",
        "data_BGC['day'] = pd.DatetimeIndex(data_BGC['Date/GMT']).day\n",
        "#data_BGC.head()"
      ],
      "metadata": {
        "id": "JctGGfMtrT-A"
      },
      "execution_count": null,
      "outputs": []
    },
    {
      "cell_type": "markdown",
      "source": [
        "# Section 1, compare datasets (JMA, ARGO)"
      ],
      "metadata": {
        "id": "6Dw7sLX-rcsP"
      }
    },
    {
      "cell_type": "markdown",
      "source": [
        "Compare the samples locations and see how the datasets overlap or don't overlap"
      ],
      "metadata": {
        "id": "JQ2n-G5sri3Z"
      }
    },
    {
      "cell_type": "code",
      "source": [
        "#Plot the corrected data and the Argo float data \"Latitude\" and \"Longitude\" coordinates. If you're unsure of the column to choose, just look at the data and the column head names.\n",
        "#Scatter plot for example"
      ],
      "metadata": {
        "id": "2w4VOJlcriT_"
      },
      "execution_count": null,
      "outputs": []
    },
    {
      "cell_type": "code",
      "source": [],
      "metadata": {
        "id": "TX4FJd0R9uBP"
      },
      "execution_count": null,
      "outputs": []
    },
    {
      "cell_type": "code",
      "source": [
        "#Plot the latitude and longitude coordinate from both the corr_data variable and the data_BGC variables as a scatter plot\n",
        "import matplotlib.pyplot as plt\n",
        "\n",
        "# Plot corr_data coordinates\n",
        "plt.scatter(corr_data['lon'], corr_data['lat'], label='corr_data', marker='o', s=10)\n",
        "\n",
        "# Plot data_BGC coordinates\n",
        "plt.scatter(data_BGC['LON'], data_BGC['LAT'], label='data_BGC', marker='x', s=10)\n",
        "\n",
        "# Set labels and title\n",
        "plt.xlabel('Longitude')\n",
        "plt.ylabel('Latitude')\n",
        "plt.title('Latitude vs Longitude')\n",
        "\n",
        "# Add legend\n",
        "plt.legend()\n",
        "\n",
        "# Display the plot\n",
        "plt.show()"
      ],
      "metadata": {
        "id": "aqvAtNCor0hV",
        "colab": {
          "base_uri": "https://localhost:8080/",
          "height": 472
        },
        "outputId": "b6171a2a-bb89-4b05-abc7-a134844a65dc"
      },
      "execution_count": null,
      "outputs": [
        {
          "output_type": "display_data",
          "data": {
            "text/plain": [
              "<Figure size 640x480 with 1 Axes>"
            ],
            "image/png": "[encoded data removed]"
          },
          "metadata": {}
        }
      ]
    },
    {
      "cell_type": "markdown",
      "source": [
        "Just from the geographic extend, we can see that the distribution of JMA samples is considerably higher than that of BCG ARGO samples. However big this despair, for this and other variables, there is some overlap in the sampled region, depths, and seasons. The geographical extent overlaps in the region between the ~30 to ~40° of latitude and ~150 to ~175° of longitude."
      ],
      "metadata": {
        "id": "ptvUm1gbr550"
      }
    },
    {
      "cell_type": "code",
      "source": [],
      "metadata": {
        "id": "b7Qf9oiMr8Zk"
      },
      "execution_count": null,
      "outputs": []
    },
    {
      "cell_type": "markdown",
      "source": [],
      "metadata": {
        "id": "1bh_TULm__ty"
      }
    },
    {
      "cell_type": "markdown",
      "source": [
        "Compare the water masses that were sampled in both datasets"
      ],
      "metadata": {
        "id": "5JKykjmar9E0"
      }
    },
    {
      "cell_type": "code",
      "source": [],
      "metadata": {
        "id": "BuXEuYid__es"
      },
      "execution_count": null,
      "outputs": []
    },
    {
      "cell_type": "code",
      "source": [
        "#Plot a scatter plot looking at the temperature vs depth profile, and seperate plot looking at salinity vs temperature. Each data source should be labeled differently."
      ],
      "metadata": {
        "id": "YASwDw_AsA92"
      },
      "execution_count": null,
      "outputs": []
    },
    {
      "cell_type": "code",
      "source": [
        "#Plot corr_data temperature vs depth\n",
        "plt.scatter(corr_data['theta'], corr_data['depth'], label='corr_data', marker='o', s=10)\n",
        "\n",
        "# Plot data_BGC temperature vs depth\n",
        "plt.scatter(data_BGC['TEMPERATURE[C]'], -1*data_BGC['DEPTH[M]'], label='data_BGC', marker='x', s=10)\n",
        "\n",
        "# Set labels and title\n",
        "plt.xlabel('Temperature')\n",
        "plt.ylabel('Depth')\n",
        "plt.title('Temperature vs Depth')\n",
        "\n",
        "# Invert y-axis for depth\n",
        "plt.gca().invert_yaxis()\n",
        "\n",
        "# Add legend\n",
        "plt.legend()\n",
        "\n",
        "# Display the plot\n",
        "plt.show()\n"
      ],
      "metadata": {
        "colab": {
          "base_uri": "https://localhost:8080/",
          "height": 472
        },
        "id": "bJQgXVRU_uFR",
        "outputId": "9de882b5-8243-48f6-84d1-8e8001345c8b"
      },
      "execution_count": null,
      "outputs": [
        {
          "output_type": "display_data",
          "data": {
            "text/plain": [
              "<Figure size 640x480 with 1 Axes>"
            ],
            "image/png": "[encoded data removed]"
          },
          "metadata": {}
        }
      ]
    },
    {
      "cell_type": "code",
      "source": [],
      "metadata": {
        "id": "Y229AgQ0ALuZ"
      },
      "execution_count": null,
      "outputs": []
    }
  ]
}